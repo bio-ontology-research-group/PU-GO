{
 "cells": [
  {
   "cell_type": "code",
   "execution_count": 1,
   "id": "a49f0a0e-461c-433f-a9dc-98a1eced5190",
   "metadata": {},
   "outputs": [],
   "source": [
    "import pandas as pd\n",
    "import torch as th\n",
    "import matplotlib.pyplot as plt\n",
    "from tqdm import tqdm\n",
    "import pandas as pd"
   ]
  },
  {
   "cell_type": "code",
   "execution_count": 2,
   "id": "fb93f21e-e8a9-457a-8321-c1f8fccab157",
   "metadata": {},
   "outputs": [],
   "source": [
    "def augment(dataframe, threshold):\n",
    "\n",
    "    df = pd.read_pickle(dataframe)\n",
    "    esm_vectors = df[\"esm2\"].values.tolist()\n",
    "    esm_vectors = th.stack(esm_vectors)\n",
    "    eye_matrix = th.eye(esm_vectors.shape[0])\n",
    "    similarity_matrix = th.matmul(esm_vectors, esm_vectors.T)\n",
    "    similarity_matrix = th.softmax(similarity_matrix, dim=1)\n",
    "    similarity_matrix = similarity_matrix - eye_matrix\n",
    "\n",
    "    augmented_annotations = list()\n",
    "    \n",
    "    for i, row in tqdm(enumerate(df.itertuples()), total=len(df)):\n",
    "        most_similar = th.argmax(similarity_matrix[i, :]).item()\n",
    "        if similarity_matrix[i, most_similar] > threshold:\n",
    "            other_annots = df.iloc[most_similar].prop_annotations\n",
    "            other_annots = set(other_annots)\n",
    "            augmented_annots = set(row.prop_annotations) | other_annots\n",
    "        else:\n",
    "            augmented_annots = set(row.prop_annotations)\n",
    "\n",
    "        augmented_annotations.append(list(augmented_annots))\n",
    "\n",
    "    df[\"aug_prop_annotations\"] = augmented_annotations\n",
    "        \n",
    "    return df"
   ]
  },
  {
   "cell_type": "code",
   "execution_count": 8,
   "id": "f07a28b7-7f4d-4992-8572-fc06aca02a81",
   "metadata": {},
   "outputs": [],
   "source": [
    "def get_similarity_matrix(df):\n",
    "    esm_vectors = df[\"esm2\"].values.tolist()\n",
    "    esm_vectors = th.stack(esm_vectors).to(\"cuda\")\n",
    "    norms = th.norm(esm_vectors, p=2, dim=1, keepdim=True)\n",
    "    esm_vectors = esm_vectors/norms\n",
    "    similarity_matrix = th.matmul(esm_vectors, esm_vectors.T)\n",
    "    \n",
    "    #mask = similarity_matrix < 0.6\n",
    "    #similarity_matrix[mask] = float('-inf')\n",
    "    \n",
    "    mask = th.eye(similarity_matrix.size(0)).bool()\n",
    "    similarity_matrix[mask] = 0 #float('-inf')\n",
    "\n",
    "#    similarity_matrix = th.sigmoid(similarity_matrix)\n",
    " #   mask = (similarity_matrix > 0.675).float()\n",
    " #   similarity_matrix = similarity_matrix * mask\n",
    "    #similarity_matrix = similarity_matrix - th.max(similarity_matrix)\n",
    "    #similarity_matrix = th.softmax(similarity_matrix, dim=0)\n",
    "    return similarity_matrix"
   ]
  },
  {
   "cell_type": "code",
   "execution_count": 9,
   "id": "36bf5b45-0e61-4ff6-a418-cf572699ba2e",
   "metadata": {},
   "outputs": [],
   "source": [
    "def show_histogram(tensor):\n",
    "    flat_tensor = tensor.flatten()\n",
    "    threshold = 0  # This means we consider values within -0.05 to 0.05 as very close to 0\n",
    "\n",
    "    # Create a mask\n",
    "    mask = th.abs(flat_tensor) >  threshold\n",
    "\n",
    "# Filter the tensor\n",
    "    filtered_tensor = flat_tensor[mask].cpu().numpy()\n",
    "    # Create the histogram\n",
    "    plt.hist(filtered_tensor, bins=100)  # Adjust the number of bins as needed\n",
    "    plt.title('Distribution of Tensor Values')\n",
    "    plt.xlabel('Value')\n",
    "    plt.ylabel('Frequency')\n",
    "    plt.show()"
   ]
  },
  {
   "cell_type": "code",
   "execution_count": 5,
   "id": "52c35ca1-2f02-4db0-8861-b807ba553bbe",
   "metadata": {},
   "outputs": [],
   "source": [
    "df = pd.read_pickle(\"data-sim/mf/train_data.pkl\")"
   ]
  },
  {
   "cell_type": "code",
   "execution_count": 10,
   "id": "ad3ced52-133c-449a-993c-35e5dde007c2",
   "metadata": {},
   "outputs": [],
   "source": [
    "sim_matrix = get_similarity_matrix(df)\n",
    "#nan_rows = th.isnan(sim_matrix).any(dim=1)\n",
    "#nan_rows\n",
    "#sim_matrix[nan_rows]"
   ]
  },
  {
   "cell_type": "code",
   "execution_count": 11,
   "id": "97798952-29fc-4932-af49-d4171e25f075",
   "metadata": {},
   "outputs": [
    {
     "name": "stdout",
     "output_type": "stream",
     "text": [
      "tensor(0., device='cuda:0') tensor(1.0000, device='cuda:0')\n"
     ]
    }
   ],
   "source": [
    "print(sim_matrix.min(), sim_matrix.max())"
   ]
  },
  {
   "cell_type": "code",
   "execution_count": 26,
   "id": "55e82a25-1e58-404b-8c72-fb470eb73470",
   "metadata": {},
   "outputs": [
    {
     "data": {
      "text/plain": [
       "tensor(0., device='cuda:0')"
      ]
     },
     "execution_count": 26,
     "metadata": {},
     "output_type": "execute_result"
    }
   ],
   "source": [
    "lt_zero = (sim_matrix < 0).float().sum()\n",
    "lt_zero/(sim_matrix.shape[0] * sim_matrix.shape[1])"
   ]
  },
  {
   "cell_type": "code",
   "execution_count": 14,
   "id": "273ded3e-3b84-4305-b5d8-06f8c255c10f",
   "metadata": {},
   "outputs": [
    {
     "data": {
      "text/plain": [
       "8023"
      ]
     },
     "execution_count": 14,
     "metadata": {},
     "output_type": "execute_result"
    }
   ],
   "source": [
    "import gc\n",
    "#del sim_matrix\n",
    "gc.collect()"
   ]
  },
  {
   "cell_type": "code",
   "execution_count": 18,
   "id": "a07cfe8b-046d-4798-9265-f98a861e5aa5",
   "metadata": {},
   "outputs": [
    {
     "data": {
      "text/plain": [
       "tensor(1.0000, device='cuda:0')"
      ]
     },
     "execution_count": 18,
     "metadata": {},
     "output_type": "execute_result"
    }
   ],
   "source": [
    "sim_matrix.max()"
   ]
  },
  {
   "cell_type": "code",
   "execution_count": 11,
   "id": "f91b3761-f344-4f28-b47c-e776f9007d27",
   "metadata": {},
   "outputs": [
    {
     "data": {
      "image/png": "[encoded data removed]",
      "text/plain": [
       "<Figure size 640x480 with 1 Axes>"
      ]
     },
     "metadata": {},
     "output_type": "display_data"
    }
   ],
   "source": [
    "show_histogram(sim_matrix)"
   ]
  },
  {
   "cell_type": "code",
   "execution_count": 11,
   "id": "65dd8446-dba2-4b9e-9809-eb90fdaa08c2",
   "metadata": {},
   "outputs": [
    {
     "data": {
      "text/plain": [
       "tensor(1.0000, device='cuda:0')"
      ]
     },
     "execution_count": 11,
     "metadata": {},
     "output_type": "execute_result"
    }
   ],
   "source": [
    "th.sum(sim_matrix[:, 1])"
   ]
  },
  {
   "cell_type": "code",
   "execution_count": 13,
   "id": "a79ded16-7077-4705-901e-e8a4e38c0927",
   "metadata": {},
   "outputs": [],
   "source": [
    "terms_df = pd.read_pickle(\"data-sim/mf/terms.pkl\")\n",
    "terms = terms_df['gos'].values.flatten()\n",
    "terms_dict = {v: i for i, v in enumerate(terms)}\n",
    "\n",
    "labels = th.zeros((len(df), len(terms_dict)), dtype=th.float32)\n",
    "\n",
    "for i, row in enumerate(df.itertuples()):\n",
    "    if not hasattr(row, 'prop_annotations'):\n",
    "        continue\n",
    "    for go_id in row.prop_annotations:\n",
    "        if go_id in terms_dict:\n",
    "            g_id = terms_dict[go_id]\n",
    "            labels[i, g_id] = 1\n"
   ]
  },
  {
   "cell_type": "code",
   "execution_count": 14,
   "id": "2633abfd-fc71-47c8-abc3-50f982737881",
   "metadata": {},
   "outputs": [
    {
     "data": {
      "text/plain": [
       "torch.Size([39432, 7114])"
      ]
     },
     "execution_count": 14,
     "metadata": {},
     "output_type": "execute_result"
    }
   ],
   "source": [
    "labels.shape"
   ]
  },
  {
   "cell_type": "code",
   "execution_count": 15,
   "id": "d9d60fef-f784-4906-90a8-957845b94b52",
   "metadata": {},
   "outputs": [
    {
     "data": {
      "text/plain": [
       "torch.Size([39432, 39432])"
      ]
     },
     "execution_count": 15,
     "metadata": {},
     "output_type": "execute_result"
    }
   ],
   "source": [
    "sim_matrix.shape"
   ]
  },
  {
   "cell_type": "code",
   "execution_count": 15,
   "id": "7af1be16-c212-437b-9796-b6212264b2ac",
   "metadata": {},
   "outputs": [],
   "source": [
    "per_class_annots = th.sum(labels, dim=0)"
   ]
  },
  {
   "cell_type": "code",
   "execution_count": 16,
   "id": "97c76dcb-9abe-4e37-905c-82ecc4af3d64",
   "metadata": {},
   "outputs": [
    {
     "data": {
      "image/png": "[encoded data removed]",
      "text/plain": [
       "<Figure size 640x480 with 1 Axes>"
      ]
     },
     "metadata": {},
     "output_type": "display_data"
    }
   ],
   "source": [
    "show_histogram(per_class_annots)"
   ]
  },
  {
   "cell_type": "code",
   "execution_count": 23,
   "id": "cce2325f-7d58-4654-8ba3-56522f72f829",
   "metadata": {},
   "outputs": [
    {
     "name": "stderr",
     "output_type": "stream",
     "text": [
      "100%|██████████| 39432/39432 [02:50<00:00, 230.96it/s]\n"
     ]
    }
   ],
   "source": [
    "weighted_labels = th.zeros(labels.shape)\n",
    "labels = labels.cuda()\n",
    "pos_labels_den = (labels == 1).float().sum(dim = 0)\n",
    "pos_labels_den = th.where(pos_labels_den == 0, th.ones_like(pos_labels_den), pos_labels_den)\n",
    "\n",
    "for i, prot_annots in tqdm(enumerate(labels), total = len(labels)):\n",
    "    prot_similarities = sim_matrix[i].unsqueeze(1).cuda()\n",
    "    w_labels = prot_similarities * labels\n",
    "    agg_w_labels = th.max(w_labels, dim = 0).values #/ pos_labels_den\n",
    "    #print(agg_w_labels.shape)\n",
    "    pos_mask = labels[i] == 1\n",
    "    neg_mask = labels[i] != 1\n",
    "    agg_w_labels = neg_mask * agg_w_labels + pos_mask \n",
    "    weighted_labels[i] = agg_w_labels"
   ]
  },
  {
   "cell_type": "code",
   "execution_count": 24,
   "id": "56da01e4-a586-48f6-8c5c-a0d05cab5050",
   "metadata": {},
   "outputs": [
    {
     "name": "stdout",
     "output_type": "stream",
     "text": [
      "tensor(0.) tensor(1.0000)\n"
     ]
    }
   ],
   "source": [
    "print(weighted_labels.min(), weighted_labels.max())"
   ]
  },
  {
   "cell_type": "code",
   "execution_count": 25,
   "id": "83242a12-a730-417f-af6a-a5fc98b2b66a",
   "metadata": {},
   "outputs": [
    {
     "data": {
      "text/plain": [
       "tensor([[0.5859, 0.0000, 0.6003,  ..., 1.0000, 0.8263, 1.0000],\n",
       "        [0.5422, 0.0000, 0.6167,  ..., 0.7247, 1.0000, 0.7247],\n",
       "        [0.6081, 0.0000, 0.6467,  ..., 0.7138, 0.8100, 0.7227],\n",
       "        ...,\n",
       "        [0.5203, 0.0000, 0.5536,  ..., 0.8707, 0.8520, 0.8707],\n",
       "        [0.4980, 0.0000, 0.4717,  ..., 1.0000, 0.8344, 1.0000],\n",
       "        [0.5849, 0.0000, 0.6050,  ..., 0.7953, 1.0000, 0.8070]])"
      ]
     },
     "execution_count": 25,
     "metadata": {},
     "output_type": "execute_result"
    }
   ],
   "source": [
    "weighted_labels"
   ]
  },
  {
   "cell_type": "code",
   "execution_count": 28,
   "id": "a7236490-4e24-4cc9-b530-cc4660c9931a",
   "metadata": {},
   "outputs": [
    {
     "data": {
      "text/plain": [
       "tensor(847217.)"
      ]
     },
     "execution_count": 28,
     "metadata": {},
     "output_type": "execute_result"
    }
   ],
   "source": [
    "mask = (weighted_labels > 0.9).float()\n",
    "mask.sum()\n",
    "#masked_w_labels = weighted_labels * mask"
   ]
  },
  {
   "cell_type": "code",
   "execution_count": 21,
   "id": "94f074fb-4039-4931-8607-52b98f365649",
   "metadata": {},
   "outputs": [],
   "source": [
    "per_class_w_annots = th.sum(masked_w_labels, dim=0)"
   ]
  },
  {
   "cell_type": "code",
   "execution_count": 22,
   "id": "c090d007-18a1-414c-a1fe-72c80562c747",
   "metadata": {},
   "outputs": [
    {
     "data": {
      "text/plain": [
       "tensor([2.0000e+00, 0.0000e+00, 2.0000e+00,  ..., 1.2462e+04, 1.7447e+04,\n",
       "        2.2210e+04])"
      ]
     },
     "execution_count": 22,
     "metadata": {},
     "output_type": "execute_result"
    }
   ],
   "source": [
    "per_class_w_annots"
   ]
  },
  {
   "cell_type": "code",
   "execution_count": 25,
   "id": "f2110282-ab35-4c03-a8eb-d6cc5af76e74",
   "metadata": {},
   "outputs": [
    {
     "data": {
      "image/png": "[encoded data removed]",
      "text/plain": [
       "<Figure size 640x480 with 1 Axes>"
      ]
     },
     "metadata": {},
     "output_type": "display_data"
    }
   ],
   "source": [
    "show_histogram(masked_w_labels)"
   ]
  },
  {
   "cell_type": "code",
   "execution_count": 29,
   "id": "1f21603a-b794-479d-b0fa-92e50e6d7fad",
   "metadata": {},
   "outputs": [
    {
     "name": "stdout",
     "output_type": "stream",
     "text": [
      "tensor(nan) tensor(nan)\n"
     ]
    }
   ],
   "source": [
    "w_labels_disk = pd.read_pickle(\"data-sim/mf/train_weighted_labels.pkl\")\n",
    "print(w_labels_disk.min(), w_labels_disk.max())"
   ]
  },
  {
   "cell_type": "code",
   "execution_count": null,
   "id": "0fc49aff-2ca3-4dd6-91a7-8b84baa08222",
   "metadata": {},
   "outputs": [],
   "source": []
  }
 ],
 "metadata": {
  "kernelspec": {
   "display_name": "deepgopu",
   "language": "python",
   "name": "deepgopu"
  },
  "language_info": {
   "codemirror_mode": {
    "name": "ipython",
    "version": 3
   },
   "file_extension": ".py",
   "mimetype": "text/x-python",
   "name": "python",
   "nbconvert_exporter": "python",
   "pygments_lexer": "ipython3",
   "version": "3.8.17"
  }
 },
 "nbformat": 4,
 "nbformat_minor": 5
}
